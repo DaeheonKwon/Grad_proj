{
 "cells": [
  {
   "cell_type": "code",
   "execution_count": null,
   "metadata": {
    "collapsed": true
   },
   "outputs": [],
   "source": [
    "import pandas as pd\n",
    "import matplotlib.pyplot as plt\n",
    "import numpy as np\n",
    "from collections import defaultdict\n",
    "from itertools import combinations\n",
    "import networkx as nx\n",
    "import community\n",
    "from utils.cluster import cluster\n",
    "from utils.recombinations import recombinations\n",
    "from matplotlib.colors import LogNorm, LinearSegmentedColormap\n",
    "from pandas.io.formats.style import Styler\n",
    "from utils.preprocessing import preprocessing\n",
    "import os\n",
    "import seaborn as sns\n",
    "import igraph as ig\n",
    "ig.config[\"plotting.backend\"] = \"matplotlib\"\n",
    "ig.config.save()"
   ]
  },
  {
   "cell_type": "code",
   "execution_count": null,
   "outputs": [],
   "source": [
    "conv = pd.read_csv('../Data/221121_sjogren_exclude_all_healthy_convergent.csv')\n",
    "subject_id = {\n",
    "    'PSO': 'S1',\n",
    "    'YJH': 'S2',\n",
    "    'WKM': 'S3',\n",
    "    'KYB': 'S4',\n",
    "    'HHJ': 'S5',\n",
    "    'KJH': 'S6',\n",
    "    'LCR': 'S7',\n",
    "    'PSB': 'S8',\n",
    "    'CKJ': 'S9',\n",
    "    'JHO': 'S10',\n",
    "    'YYS': 'S11',\n",
    "    'KJY': 'S12',\n",
    "    'KMJ': 'S13',\n",
    "    'LYS': 'S14',\n",
    "    'CJR': 'S15',\n",
    "    'HKN': 'S16',\n",
    "    'PSJ': 'S17',\n",
    "    'KSK': 'S18',\n",
    "    'LHS': 'S19',\n",
    "    'KMO': 'S20'\n",
    "}\n",
    "conv['patients'] = conv['patients'].copy().apply(lambda x: x.split('|'))\n",
    "conv['patients'] = conv['patients'].apply(lambda x: [subject_id[i] for i in x])\n",
    "conv"
   ],
   "metadata": {
    "collapsed": false
   }
  },
  {
   "cell_type": "code",
   "execution_count": null,
   "outputs": [],
   "source": [
    "def unique_shared_clonotype(shared_clonotype):\n",
    "    raw_datas = []\n",
    "    for patient in shared_clonotype['patients']:\n",
    "        df = pd.read_csv(f'../Data/new_sjogren_file/{patient}_add_d_gene.tsv', sep='\\t')\n",
    "        process = preprocessing(df)\n",
    "        raw_datas.append(\n",
    "            process().get_group((shared_clonotype['v_call'], shared_clonotype['j_call'], shared_clonotype['cdr3_aa'])))\n",
    "    concat = pd.concat(raw_datas, keys=shared_clonotype['patients'])\n",
    "    concat['isUnique'] = ~concat['sequence'].duplicated(keep=False)\n",
    "    return concat"
   ],
   "metadata": {
    "collapsed": false
   }
  },
  {
   "cell_type": "code",
   "execution_count": null,
   "outputs": [],
   "source": [
    "\n",
    "datas = []\n",
    "for i in range(91):\n",
    "    datas.append(unique_shared_clonotype(conv.iloc[i]))\n",
    "concat_clone = pd.concat(datas,\n",
    "                         keys=conv.iloc[0:91]['v_call'] + '|' + conv.iloc[0:91]['j_call'] + '|' + conv.iloc[0:91][\n",
    "                             'cdr3_aa'])\n",
    "concat_clone"
   ],
   "metadata": {
    "collapsed": false
   }
  },
  {
   "cell_type": "code",
   "execution_count": null,
   "outputs": [],
   "source": [
    "\n",
    "concat_clone.to_csv('../Data/sjogren_unique_sequences_marked.csv')\n",
    "concat_clone = pd.read_csv('../Data/sjogren_unique_sequences_marked.csv')\n",
    "concat_clone"
   ],
   "metadata": {
    "collapsed": false
   }
  },
  {
   "cell_type": "code",
   "execution_count": null,
   "outputs": [],
   "source": [
    "\n",
    "concat_clone.rename(columns={\"Unnamed: 0\": \"clonotype\", \"Unnamed: 1\": \"patient_id\"}, inplace=True)\n",
    "concat_clone"
   ],
   "metadata": {
    "collapsed": false
   }
  },
  {
   "cell_type": "code",
   "execution_count": null,
   "outputs": [],
   "source": [
    "\n",
    "sequence_group = concat_clone.groupby('sequence')['patient_id'].nunique()\n",
    "concat_clone['isShared'] = concat_clone['sequence'].map(lambda x: sequence_group[x] > 1)\n",
    "#concat_clone.to_csv('../Data/sjogren_unique_sequences_marked.csv', index=False)\n",
    "concat_clone = pd.read_csv('../Data/sjogren_unique_sequences_marked.csv')\n",
    "concat_clone"
   ],
   "metadata": {
    "collapsed": false
   }
  },
  {
   "cell_type": "code",
   "execution_count": null,
   "outputs": [],
   "source": [
    "\n",
    "clone_marked = pd.read_csv('../Data/sjogren_unique_sequences_marked.csv')\n",
    "clone1 = clone_marked.groupby('clonotype').get_group(clone_marked['clonotype'].unique()[1])\n",
    "clone1\n"
   ],
   "metadata": {
    "collapsed": false
   }
  },
  {
   "cell_type": "code",
   "execution_count": null,
   "outputs": [],
   "source": [
    "\n",
    "# shared['sequence'].value_counts()\n",
    "# Create a DataFrame\n",
    "def show_single_clonotype(df, full_df):\n",
    "    sequences = df['sequence'].unique()\n",
    "    trimmed_sequences = [sequence[:10] for sequence in sequences]\n",
    "    patients = df['patient_id'].unique()\n",
    "\n",
    "    frequency_matrix = np.zeros((len(patients), len(sequences)), dtype=float)\n",
    "    for idx, patient in enumerate(patients):\n",
    "        patient_sequences = df[df['patient_id'] == patient]\n",
    "        for sequence_row in patient_sequences.iterrows():\n",
    "            sequence = sequence_row[1]['sequence']\n",
    "            frequency = sequence_row[1]['frequency']\n",
    "            sequence_idx = np.where(sequences == sequence)[0][0]\n",
    "            frequency_matrix[idx, sequence_idx] = frequency\n",
    "\n",
    "    #min_nonzero_frequency = 0.000001\n",
    "    normalized_frequencies = frequency_matrix\n",
    "\n",
    "    #normalized_frequencies = np.where(normalized_frequencies == 0, , frequency_matrix)\n",
    "    log_frequencies = np.log10(normalized_frequencies)\n",
    "\n",
    "    cmap_colors = [(0.9, 0.9, 0.9), (0.6, 0.2, 0.2), (0.1, 0.1, 0.1)]\n",
    "    custom_cmap = LinearSegmentedColormap.from_list(\"custom_cmap\", cmap_colors, N=256)\n",
    "\n",
    "    custom_cmap.set_bad(color='white')\n",
    "\n",
    "    fig = plt.figure(figsize=(12, 6))\n",
    "    ax = plt.subplot2grid((1, 3), (0, 0), colspan=2)\n",
    "    ax.grid(False)\n",
    "    heatmap = ax.imshow(log_frequencies, cmap=custom_cmap)\n",
    "\n",
    "    ax.set_xticks(np.arange(len(sequences)))\n",
    "    ax.set_yticks(np.arange(len(patients)))\n",
    "    ax.set_xticklabels(trimmed_sequences)\n",
    "    ax.set_yticklabels(patients)\n",
    "\n",
    "    plt.setp(ax.get_xticklabels(), rotation=45, ha=\"right\", rotation_mode=\"anchor\")\n",
    "\n",
    "    cbar = plt.colorbar(heatmap, shrink=0.6)\n",
    "    cbar.set_label(\"log10(frequency)\")\n",
    "\n",
    "    ax.set_title(f\"{df['clonotype'].unique()[0]}\")\n",
    "    ax.set_xlabel(\"Shared Sequences (first 10 nt shown)\")\n",
    "    ax.set_ylabel(\"Patients\")\n",
    "\n",
    "    table_data = []\n",
    "\n",
    "    for patient in patients:\n",
    "        patient_sequence = full_df[full_df['patient_id'] == patient]\n",
    "        has_unique = (True in list(patient_sequence['isUnique'])) or \\\n",
    "                     (False in list(patient_sequence[patient_sequence['isUnique'] == False]['isShared']))\n",
    "\n",
    "        status = 'Yes' if has_unique else 'No'\n",
    "        table_data.append([patient, status])\n",
    "\n",
    "    ax1 = plt.subplot2grid((1, 3), (0, 2), colspan=1)\n",
    "    ax1.axis('off')  # Turn off axis\n",
    "\n",
    "    table = ax1.table(cellText=table_data, colLabels=['Patient ID', 'Has Unique Sequences'], loc='center',\n",
    "                      colLoc='center', cellLoc='center')\n",
    "    table.auto_set_font_size(False)\n",
    "    table.set_fontsize(10)\n",
    "\n",
    "    plt.tight_layout()\n",
    "    plt.savefig(os.path.join('../Data/new_sjogren_contamination_analysis/',\n",
    "                             df['clonotype'].unique()[0].split('|')[0] + '_' + df['clonotype'].unique()[0].split('|')[\n",
    "                                 1] + '_' + df['clonotype'].unique()[0].split('|')[2]), dpi=500)"
   ],
   "metadata": {
    "collapsed": false
   }
  },
  {
   "cell_type": "code",
   "execution_count": null,
   "outputs": [],
   "source": [
    "\n",
    "for i in range(92):\n",
    "    temp = clone_marked.groupby('clonotype').get_group(clone_marked['clonotype'].unique()[1])\n",
    "    shared_temp = temp[(temp['isShared'] == True)]\n",
    "    if len(shared_temp) > 0:\n",
    "        show_single_clonotype(shared_temp, temp)\n"
   ],
   "metadata": {
    "collapsed": false
   }
  }
 ],
 "metadata": {
  "kernelspec": {
   "display_name": "Python 3",
   "language": "python",
   "name": "python3"
  },
  "language_info": {
   "codemirror_mode": {
    "name": "ipython",
    "version": 2
   },
   "file_extension": ".py",
   "mimetype": "text/x-python",
   "name": "python",
   "nbconvert_exporter": "python",
   "pygments_lexer": "ipython2",
   "version": "2.7.6"
  }
 },
 "nbformat": 4,
 "nbformat_minor": 0
}
