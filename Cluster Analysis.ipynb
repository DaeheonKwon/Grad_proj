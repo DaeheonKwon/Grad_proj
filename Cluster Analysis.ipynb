{
 "cells": [
  {
   "cell_type": "raw",
   "source": [
    "cluster_S8.draw_graph()"
   ],
   "metadata": {
    "collapsed": false
   }
  },
  {
   "cell_type": "code",
   "execution_count": null,
   "metadata": {
    "collapsed": true
   },
   "outputs": [],
   "source": [
    "cluster_S8.draw_graph()"
   ]
  },
  {
   "cell_type": "code",
   "execution_count": null,
   "outputs": [],
   "source": [
    "G = cluster_S8.create_graph()\n",
    "communities = list(nx.community.label_propagation_communities(G))\n",
    "subgraphs = [G.subgraph(community) for community in communities]\n",
    "\n",
    "for i, subgraph in enumerate(subgraphs):\n",
    "    print(f\"Subgraph {i + 1} nodes:\", subgraph.nodes())\n"
   ],
   "metadata": {
    "collapsed": false
   }
  },
  {
   "cell_type": "code",
   "execution_count": null,
   "outputs": [],
   "source": [
    "layout = nx.spring_layout(subgraphs[309])\n",
    "nx.draw(subgraphs[309], layout, with_labels = True, node_size = 1, node_color = 'black', edge_color = 'grey')\n",
    "plt.show()"
   ],
   "metadata": {
    "collapsed": false
   }
  },
  {
   "cell_type": "code",
   "execution_count": null,
   "outputs": [],
   "source": [
    "nodelist = list(subgraphs[309].nodes())\n",
    "subdataframe = dataframe[dataframe['sequence_id'].isin(nodelist)]\n",
    "subdataframe"
   ],
   "metadata": {
    "collapsed": false
   }
  },
  {
   "cell_type": "code",
   "execution_count": null,
   "outputs": [],
   "source": [
    "import pandas as pd\n",
    "from Bio.Seq import Seq\n",
    "\n",
    "df = subdataframe\n",
    "\n",
    "def translate_dna_to_amino_acid(dna_sequence):\n",
    "    return str(Seq(dna_sequence).translate())\n",
    "\n",
    "def check_alignment_and_shift(dna_sequence, amino_acid_sequence):\n",
    "    shifted_dna = dna_sequence\n",
    "    while True:\n",
    "        translated_aa = translate_dna_to_amino_acid(shifted_dna)\n",
    "        if translated_aa == amino_acid_sequence:\n",
    "            return True, shifted_dna\n",
    "        if len(shifted_dna) < 3:\n",
    "            break\n",
    "        shifted_dna = shifted_dna[1:]\n",
    "    return False, None\n",
    "\n",
    "alignment_status = []\n",
    "shifted_sequences = []\n",
    "for i, row in df.iterrows():\n",
    "    aligned, shifted_sequence = check_alignment_and_shift(row['sequence'], row['sequence_aa'])\n",
    "    alignment_status.append(aligned)\n",
    "    shifted_sequences.append(shifted_sequence)\n",
    "\n",
    "df['reading_frame_aligned'] = alignment_status\n",
    "df['shifted_sequence'] = shifted_sequences\n",
    "\n",
    "subdataframe\n"
   ],
   "metadata": {
    "collapsed": false
   }
  },
  {
   "cell_type": "code",
   "execution_count": null,
   "outputs": [],
   "source": [
    "def calc_div_from_germline(sequence):\n",
    "    div_from_germline = defaultdict(list)\n",
    "    for i in range(len(sequence)):\n",
    "        hamming_distance = 0\n",
    "        for j in range(len(sequence['sequence_alignment'].iloc[i])):\n",
    "            if sequence['sequence_alignment'].iloc[i][j] != sequence['germline_alignment'].iloc[i][j]:\n",
    "                hamming_distance += 1\n",
    "        div_from_germline[i] = hamming_distance\n",
    "    return div_from_germline\n",
    "\n",
    "temp = calc_div_from_germline(subdataframe\\\n",
    "temp"
   ],
   "metadata": {
    "collapsed": false
   }
  },
  {
   "cell_type": "code",
   "execution_count": null,
   "outputs": [],
   "source": [
    "codontab = {\n",
    "    'TCA': 'S',    # Serina\n",
    "    'TCC': 'S',    # Serina\n",
    "    'TCG': 'S',    # Serina\n",
    "    'TCT': 'S',    # Serina\n",
    "    'TTC': 'F',    # Fenilalanina\n",
    "    'TTT': 'F',    # Fenilalanina\n",
    "    'TTA': 'L',    # Leucina\n",
    "    'TTG': 'L',    # Leucina\n",
    "    'TAC': 'Y',    # Tirosina\n",
    "    'TAT': 'Y',    # Tirosina\n",
    "    'TAA': '*',    # Stop\n",
    "    'TAG': '*',    # Stop\n",
    "    'TGC': 'C',    # Cisteina\n",
    "    'TGT': 'C',    # Cisteina\n",
    "    'TGA': '*',    # Stop\n",
    "    'TGG': 'W',    # Triptofano\n",
    "    'CTA': 'L',    # Leucina\n",
    "    'CTC': 'L',    # Leucina\n",
    "    'CTG': 'L',    # Leucina\n",
    "    'CTT': 'L',    # Leucina\n",
    "    'CCA': 'P',    # Prolina\n",
    "    'CCC': 'P',    # Prolina\n",
    "    'CCG': 'P',    # Prolina\n",
    "    'CCT': 'P',    # Prolina\n",
    "    'CAC': 'H',    # Histidina\n",
    "    'CAT': 'H',    # Histidina\n",
    "    'CAA': 'Q',    # Glutamina\n",
    "    'CAG': 'Q',    # Glutamina\n",
    "    'CGA': 'R',    # Arginina\n",
    "    'CGC': 'R',    # Arginina\n",
    "    'CGG': 'R',    # Arginina\n",
    "    'CGT': 'R',    # Arginina\n",
    "    'ATA': 'I',    # Isoleucina\n",
    "    'ATC': 'I',    # Isoleucina\n",
    "    'ATT': 'I',    # Isoleucina\n",
    "    'ATG': 'M',    # Methionina\n",
    "    'ACA': 'T',    # Treonina\n",
    "    'ACC': 'T',    # Treonina\n",
    "    'ACG': 'T',    # Treonina\n",
    "    'ACT': 'T',    # Treonina\n",
    "    'AAC': 'N',    # Asparagina\n",
    "    'AAT': 'N',    # Asparagina\n",
    "    'AAA': 'K',    # Lisina\n",
    "    'AAG': 'K',    # Lisina\n",
    "    'AGC': 'S',    # Serina\n",
    "    'AGT': 'S',    # Serina\n",
    "    'AGA': 'R',    # Arginina\n",
    "    'AGG': 'R',    # Arginina\n",
    "    'GTA': 'V',    # Valina\n",
    "    'GTC': 'V',    # Valina\n",
    "    'GTG': 'V',    # Valina\n",
    "    'GTT': 'V',    # Valina\n",
    "    'GCA': 'A',    # Alanina\n",
    "    'GCC': 'A',    # Alanina\n",
    "    'GCG': 'A',    # Alanina\n",
    "    'GCT': 'A',    # Alanina\n",
    "    'GAC': 'D',    # Acido Aspartico\n",
    "    'GAT': 'D',    # Acido Aspartico\n",
    "    'GAA': 'E',    # Acido Glutamico\n",
    "    'GAG': 'E',    # Acido Glutamico\n",
    "    'GGA': 'G',    # Glicina\n",
    "    'GGC': 'G',    # Glicina\n",
    "    'GGG': 'G',    # Glicina\n",
    "    'GGT': 'G'     # Glicina\n",
    "}\n",
    "aminotab = defaultdict(list)\n",
    "for codon, aa in codontab.items():\n",
    "    aminotab[aa].append(codon)"
   ],
   "metadata": {
    "collapsed": false
   }
  },
  {
   "cell_type": "code",
   "execution_count": null,
   "outputs": [],
   "source": [
    "subdataframe['sequence_len'] = subdataframe['shifted_sequence'].apply(lambda x: len(x)).copy()\n",
    "sequences = list(subdataframe.groupby('sequence_len'))[1][1]\n",
    "sequences[sequences['sequence'] == sequences['germline_alignment']]\n"
   ],
   "metadata": {
    "collapsed": false
   }
  },
  {
   "cell_type": "code",
   "execution_count": null,
   "outputs": [],
   "source": [
    "hamming_distance_map = defaultdict(list)\n",
    "\n",
    "for i in range(len(sequences['sequence_id'])):\n",
    "    for j in range(i+1,  len(sequences['sequence_id'])):\n",
    "        hamming_distance = 0\n",
    "        for k in range(len(sequences['shifted_sequence'].iloc[i])):\n",
    "            if sequences['shifted_sequence'].iloc[i][k] != sequences['shifted_sequence'].iloc[j][k]:\n",
    "                hamming_distance += 1\n",
    "        if hamming_distance == 1:\n",
    "            hamming_distance_map[sequences['sequence_id'].iloc[i]].append(sequences['sequence_id'].iloc[j])\n",
    "            # hamming_distance_map[sequences['sequence_id'].iloc[j]].append(sequences['sequence_id'].iloc[i])\n"
   ],
   "metadata": {
    "collapsed": false
   }
  },
  {
   "cell_type": "code",
   "execution_count": null,
   "outputs": [],
   "source": [
    "subG = nx.Graph()\n",
    "\n",
    "for seq, neighbors in hamming_distance_map.items():\n",
    "    subG.add_node(seq)\n",
    "    for neighbor in neighbors:\n",
    "        subG.add_node(neighbor)\n",
    "        subG.add_edge(seq, neighbor)\n",
    "\n",
    "subG.nodes()"
   ],
   "metadata": {
    "collapsed": false
   }
  },
  {
   "cell_type": "code",
   "execution_count": null,
   "outputs": [],
   "source": [
    "layout = nx.spring_layout(subG)\n",
    "nx.draw(subG, layout, with_labels=True, node_size=1, node_color='red', edge_color='grey', font_size = 7)\n",
    "plt.show()\n",
    "phylogenetic tree\n",
    "igphyml"
   ],
   "metadata": {
    "collapsed": false
   }
  },
  {
   "cell_type": "code",
   "execution_count": null,
   "outputs": [],
   "source": [
    "pairwise_distances = nx.floyd_warshall_numpy(cluster_S8.create_graph())\n",
    "plt.figure(figsize=(8,8))\n",
    "plt.imshow(pairwise_distances, cmap='viridis', interpolation='none')\n",
    "plt.colorbar(label='Distance')\n",
    "plt.title('Pairwise Distance Matrix')\n",
    "plt.show()"
   ],
   "metadata": {
    "collapsed": false
   }
  },
  {
   "cell_type": "code",
   "execution_count": null,
   "outputs": [],
   "source": [
    "# calculating clonal expansion index, in edges\n",
    "edge_counts, gini_coefficient = cluster_S8.clonal_expansion_index_by_edges()\n",
    "fig = plt.figure(figsize=(18,6))\n",
    "axis1 = plt.subplot(1, 3, 1)\n",
    "axis1.plot(edge_counts, 'r-', linewidth=1)\n",
    "axis1.set_xlabel('Node')\n",
    "axis1.set_ylabel('Degree')\n",
    "\n",
    "# calculating clonal expansion index, in sequences\n",
    "sequence_counts, gini_seq_coefficient = cluster_S8.clonal_expansion_index_by_duplicates()\n",
    "\n",
    "axis2 = plt.subplot(1, 3, 2)\n",
    "axis2.plot(sequence_counts, 'r-', linewidth=1)\n",
    "axis2.set_xlabel('Sequence')\n",
    "axis2.set_ylabel('Count')\n",
    "\n",
    "# calculating clonal diversification index, in # of unique VDJ seqs in clones\n",
    "cluster_size, shannon_entropy = cluster_S8.clonal_diversification_index()\n",
    "\n",
    "axis3 = plt.subplot(1, 3, 3)\n",
    "axis3.plot(cluster_size, 'r-', linewidth = 1)\n",
    "axis3.set_xlabel('Clones')\n",
    "axis3.set_ylabel('Size')\n",
    "\n",
    "plt.show()\n",
    "\n",
    "print(f'Clonal expansion index (sequence, gini) : {gini_seq_coefficient}')\n",
    "print(f'Clonal expansion index (edge, gini) : {gini_coefficient}')\n",
    "print(f'Clonal diversification index (clones, shannon) : {shannon_entropy}')"
   ],
   "metadata": {
    "collapsed": false
   }
  },
  {
   "cell_type": "code",
   "execution_count": null,
   "outputs": [],
   "source": [],
   "metadata": {
    "collapsed": false
   }
  }
 ],
 "metadata": {
  "kernelspec": {
   "display_name": "Python 3",
   "language": "python",
   "name": "python3"
  },
  "language_info": {
   "codemirror_mode": {
    "name": "ipython",
    "version": 2
   },
   "file_extension": ".py",
   "mimetype": "text/x-python",
   "name": "python",
   "nbconvert_exporter": "python",
   "pygments_lexer": "ipython2",
   "version": "2.7.6"
  }
 },
 "nbformat": 4,
 "nbformat_minor": 0
}
