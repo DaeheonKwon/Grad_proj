{
 "cells": [
  {
   "cell_type": "code",
   "execution_count": null,
   "metadata": {
    "collapsed": true
   },
   "outputs": [],
   "source": [
    "isotype_counts = dataframe.groupby('v_call')['c_call'].apply(lambda x: (x.unique(), x.value_counts()))\n",
    "\n",
    "v_genes = isotype_counts.index.to_list()\n",
    "isotypes = isotype_counts.apply(lambda x: x[0]).to_list()\n",
    "counts = isotype_counts.apply(lambda x: x[1].to_list()).to_list()\n",
    "\n",
    "gene_isotype_counts = {}\n",
    "for i, v_gene in enumerate(v_genes):\n",
    "    isotype_count_dict = {isotype: count for isotype, count in zip(isotypes[i], counts[i])}\n",
    "    gene_isotype_counts[v_gene] = isotype_count_dict\n",
    "\n",
    "df = pd.DataFrame.from_dict(gene_isotype_counts, orient='index').fillna(0)\n",
    "\n",
    "df_normalized = df.div(df.sum(axis=1), axis=0)\n",
    "\n",
    "plt.figure(figsize=(10, 8))\n",
    "sns.set(font_scale=1.2)\n",
    "sns.heatmap(df_normalized.transpose(), annot=False, cmap='YlGn', cbar_kws={'label': 'Normalized Isotype Usage'})\n",
    "\n",
    "plt.title('Normalized Isotype Usage for Each V Gene')\n",
    "plt.xlabel('V genes')\n",
    "plt.ylabel('Isotypes', rotation=90)\n",
    "\n",
    "ax = plt.gca()\n",
    "ax.set_xticks(range(len(df.index)))\n",
    "ax.set_xticklabels(df.index, fontsize=9)\n",
    "\n",
    "ax.set_yticks(range(len(df.columns)))\n",
    "ax.set_yticklabels(df.columns, rotation=45, va = 'top')\n",
    "\n",
    "plt.tight_layout()\n",
    "\n",
    "plt.show()"
   ]
  }
 ],
 "metadata": {
  "kernelspec": {
   "display_name": "Python 3",
   "language": "python",
   "name": "python3"
  },
  "language_info": {
   "codemirror_mode": {
    "name": "ipython",
    "version": 2
   },
   "file_extension": ".py",
   "mimetype": "text/x-python",
   "name": "python",
   "nbconvert_exporter": "python",
   "pygments_lexer": "ipython2",
   "version": "2.7.6"
  }
 },
 "nbformat": 4,
 "nbformat_minor": 0
}
