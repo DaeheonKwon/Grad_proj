{
 "cells": [
  {
   "cell_type": "code",
   "execution_count": null,
   "metadata": {
    "collapsed": true
   },
   "outputs": [],
   "source": [
    "def significant_points(data):\n",
    "    FoldChange = defaultdict(list)\n",
    "    for keys, items in data.items():\n",
    "        for key, item in items.items():\n",
    "            FoldChange[key].append(item)\n",
    "    null_mean = 0.0\n",
    "    p_values = {}\n",
    "\n",
    "    for vgene, fold_changes in FoldChange.items():\n",
    "        if np.var(fold_changes) == 0:\n",
    "            p_value == 1.0\n",
    "        else:\n",
    "            t_test, p_value = stats.ttest_1samp(fold_changes, null_mean)\n",
    "        p_values[vgene] = p_value\n",
    "\n",
    "    volcano_plot = pd.DataFrame()\n",
    "    FC_dataframe = pd.DataFrame.from_dict(FoldChange, orient='index')\n",
    "    volcano_plot['mean'] = FC_dataframe.mean(axis=1)\n",
    "    volcano_plot['p-value'] = p_values.values()\n",
    "    volcano_plot['std'] = FC_dataframe.std(axis=1)\n",
    "    volcano_plot['-log10(p-value)'] = -np.log10(volcano_plot['p-value'])\n",
    "    volcano_plot.dropna(inplace=True)\n",
    "    significance_threshold = 0.01\n",
    "    significant_points = volcano_plot[volcano_plot['p-value'] < significance_threshold]\n",
    "    return significant_points\n",
    "\n",
    "sjo = significant_points(FoldChange_sjogren)\n",
    "heal = significant_points(FoldChange_healthy)\n",
    "\n",
    "comm = set(sjo.index).intersection(set(heal.index))\n",
    "\n",
    "sjo = sjo[sjo.index.isin(comm)]\n",
    "heal = heal[heal.index.isin(comm)]\n",
    "\n",
    "plt.figure(figsize=(10, 6))\n",
    "plt.scatter(sjo['mean'], sjo['-log10(p-value)'].apply(lambda x: (x if x > 0 else 0)), c='r', alpha=0.5, label='sjogren')\n",
    "plt.scatter(heal['mean'], heal['-log10(p-value)'].apply(lambda x: (x if x > 0 else 0)), c='b', alpha=0.5, label='healthy')\n",
    "\n",
    "plt.xlabel('log2(Fold Change)')\n",
    "plt.ylabel('-log10(P-Value)')\n",
    "plt.title('Fold Change for V genes')\n",
    "\n",
    "for i, txt in enumerate(sjo.index):\n",
    "    plt.annotate(txt.split('V')[1], (sjo['mean'][txt], sjo['-log10(p-value)'][txt]))\n",
    "\n",
    "plt.plot([sjo['mean'], heal['mean']],\n",
    "                 [sjo['-log10(p-value)'], heal['-log10(p-value)']],\n",
    "                 color='gray', linestyle='--')\n",
    "\n",
    "plt.errorbar(sjo['mean'], sjo['-log10(p-value)'],\n",
    "                     xerr=sjo['std'], fmt='o', color='r', markersize=1, alpha=0.3)\n",
    "plt.errorbar(heal['mean'], heal['-log10(p-value)'],\n",
    "                     xerr=heal['std'], fmt='o', color='b', markersize=1, alpha = 0.3)\n",
    "\n",
    "plt.legend()\n",
    "plt.savefig('../Data/volcano_plot/comm_over_p_0.05_error.png', dpi=500)\n",
    "plt.show()"
   ]
  },
  {
   "cell_type": "code",
   "execution_count": null,
   "outputs": [],
   "source": [],
   "metadata": {
    "collapsed": false
   }
  }
 ],
 "metadata": {
  "kernelspec": {
   "display_name": "Python 3",
   "language": "python",
   "name": "python3"
  },
  "language_info": {
   "codemirror_mode": {
    "name": "ipython",
    "version": 2
   },
   "file_extension": ".py",
   "mimetype": "text/x-python",
   "name": "python",
   "nbconvert_exporter": "python",
   "pygments_lexer": "ipython2",
   "version": "2.7.6"
  }
 },
 "nbformat": 4,
 "nbformat_minor": 0
}
