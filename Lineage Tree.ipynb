{
 "cells": [
  {
   "cell_type": "code",
   "execution_count": 72,
   "metadata": {
    "collapsed": true,
    "ExecuteTime": {
     "end_time": "2023-10-23T23:14:56.969818Z",
     "start_time": "2023-10-23T23:14:56.912920Z"
    }
   },
   "outputs": [
    {
     "name": "stderr",
     "output_type": "stream",
     "text": [
      "/Users/daeheonkwon/anaconda3/envs/IP/lib/python3.10/site-packages/Bio/pairwise2.py:278: BiopythonDeprecationWarning: Bio.pairwise2 has been deprecated, and we intend to remove it in a future release of Biopython. As an alternative, please consider using Bio.Align.PairwiseAligner as a replacement, and contact the Biopython developers if you still need the Bio.pairwise2 module.\n",
      "  warnings.warn(\n"
     ]
    }
   ],
   "source": [
    "import pandas as pd\n",
    "import matplotlib.pyplot as plt\n",
    "import numpy as np\n",
    "import math\n",
    "from collections import defaultdict\n",
    "from itertools import combinations\n",
    "import networkx as nx\n",
    "import community\n",
    "from utils.cluster import cluster\n",
    "from utils.recombinations import recombinations\n",
    "from matplotlib.colors import LogNorm, LinearSegmentedColormap\n",
    "from pandas.io.formats.style import Styler\n",
    "from utils.preprocessing import preprocessing\n",
    "import os\n",
    "import seaborn as sns\n",
    "import igraph as ig\n",
    "import scipy.stats as stats\n",
    "import mplcursors\n",
    "import plotly.express as px\n",
    "import plotly.graph_objs as go\n",
    "import plotly.io as pio\n",
    "from Bio import pairwise2\n",
    "import difflib\n",
    "\n",
    "sjogren_path = '../Data/new_sjogren_file/'\n",
    "healthy_path = '../Data/in_house_healthy/'\n",
    "sjogren_clone_path = '../Data/IgPhyML_input/sjogren/'"
   ]
  },
  {
   "cell_type": "code",
   "execution_count": 8,
   "outputs": [],
   "source": [
    "for file in os.listdir(sjogren_path):\n",
    "    df = preprocessing(pd.read_csv(os.path.join(sjogren_path, file), sep='\\t'))\n",
    "    df()['locus'] = 'IGH'\n",
    "    df()[df()['v_call'] == 'IGHV1-69'].to_csv(os.path.join('../Data/IgPhyML_input/sjogren/', file), sep='\\t', index=False, header=True)"
   ],
   "metadata": {
    "collapsed": false,
    "ExecuteTime": {
     "end_time": "2023-10-23T14:17:19.188818Z",
     "start_time": "2023-10-23T14:15:46.585148Z"
    }
   }
  },
  {
   "cell_type": "code",
   "execution_count": 0,
   "outputs": [],
   "source": [
    "df.get_Vgene('IGHV1-69').to_csv(os.path.join('../Data/IgPhyML_input/sjogren/', 'S8_add_d_gene_IGHV1-69.tsv'), sep='\\t', index=False, header=True)"
   ],
   "metadata": {
    "collapsed": false
   }
  },
  {
   "cell_type": "code",
   "execution_count": 95,
   "outputs": [
    {
     "name": "stdout",
     "output_type": "stream",
     "text": [
      "GCTGCTGGAGGCACCTTCAGCACCTATACTATCAGGTGGGTGCGACAGGCCCCTGAACAAGGGCTTGAGTGGATGGGAGAGATCGTCCCTATCTTTGGAAAAGTAAACTACGCACAGAAGTTCCAGGGCAGAGTCACGATTACCG------------------CAGCCGACATGGAACTGAGCAGCCTGAGATCTGAGGACACGGCCGTGTATTACTGTGCGATGACCTTAAAATTTGATCCGGTATTTGAATATTGGGGTCAGGGAACCCTGGTCACCGTCTCCTCA\n",
      "GCTGCTGGAGGCACCTTCAGCACCTATACTATCAGGTGGGTGCGACAGGCCCCTGAACAAGGGCTTGAGTGGATGGGAGAGATCGTCCCTATCTTTGGAAAAGTAAACTACGCACAGAAGTTCCAGGGCAGAGTCACGATTACCGCAGCCGACATGGAACTGAGCAGCCTGAGATCTGAGGACACGGCCGTGTATTACTGTGCGATGACCTTAAAATTTGATCCGGTATTTGAATATTGGGGTCAGGGAACCCTGGTCACCGTCTCCTCA\n"
     ]
    }
   ],
   "source": [
    "print(df.iloc[29]['sequence_alignment'])\n",
    "print(df.iloc[29]['sequence'])"
   ],
   "metadata": {
    "collapsed": false,
    "ExecuteTime": {
     "end_time": "2023-10-24T01:43:52.958977Z",
     "start_time": "2023-10-24T01:43:52.954012Z"
    }
   }
  },
  {
   "cell_type": "code",
   "execution_count": 98,
   "outputs": [
    {
     "data": {
      "text/plain": "    sequence_id                                           sequence rev_comp  \\\n0      Seq_2757  TCTTCGGGAGGCACCTTCAGTACCTATGCTATCAGCTGGGTGCGAC...        F   \n1       Seq_298  TCTTCGGGAGGCACCTTCAGTACCTATGCTATCAGCTGGGTGCGAC...        F   \n2      Seq_2842  GCTTCTGGAGGCACCTTCAGCAGCTATGCTATCAGCTGGGTGCGAC...        F   \n3      Seq_8553  ACTTCTGGAGGCACCCTCAGCAGCACTTATGCGATCAGTTGGGTGC...        F   \n4       Seq_383  ACTTCTGGAGGCACCCTCAGCAGCACTTATGCGATCAGTTGGGTGC...        F   \n..          ...                                                ...      ...   \n175    Seq_3894  GCTTCTGGAGGCACCTTCAGCAGCTATGCTATCAGCTGGGTGCGAC...        F   \n176    Seq_3184  GCTTCTGGAGGCACCTTCAGCAGCTATGCTATCAGCTGGGTGCGAC...        F   \n177    Seq_5757  GCTTCTGGAGGCACCTTCAGCAGCTATGCTATCAGCTGGGTGCGAC...        F   \n178    Seq_7113  GCTTCTGGAGGCACCTTCAGCAGCTATGCTATCAGCTGGGTGCGAC...        F   \n179    Seq_6641  GCTTCTGGAGGCACCTTCAGCAGCTATGCTATCAGCTGGGTGCGAC...        F   \n\n    productive    v_call       d_call j_call  \\\n0            T  IGHV1-69  IGHD3-10*01  IGHJ5   \n1            T  IGHV1-69  IGHD3-10*01  IGHJ5   \n2            T  IGHV1-69  IGHD3-10*01  IGHJ3   \n3            T  IGHV1-69  IGHD3-22*01  IGHJ1   \n4            T  IGHV1-69  IGHD3-22*01  IGHJ1   \n..         ...       ...          ...    ...   \n175          T  IGHV1-69  IGHD5-18*01  IGHJ6   \n176          T  IGHV1-69   IGHD2-2*01  IGHJ6   \n177          T  IGHV1-69   IGHD1-7*01  IGHJ4   \n178          T  IGHV1-69   IGHD4-4*01  IGHJ4   \n179          T  IGHV1-69  IGHD3-22*01  IGHJ6   \n\n                                    sequence_alignment  \\\n0    CTTCGGGAGGCACCTTCAGTACCTATGCTATCAGCTGGGTGCGACA...   \n1    CTTCGGGAGGCACCTTCAGTACCTATGCTATCAGCTGGGTGCGACA...   \n2    GCTTCTGGAGGCACCTTCAGCAGCTATGCTATCAGCTGGGTGCGAC...   \n3    CTTCTGGAGGCACCCTCAGCAGCACTTATGCGATCAGTTGGGTGCG...   \n4    CTTCTGGAGGCACCCTCAGCAGCACTTATGCGATCAGTTGGGTGCG...   \n..                                                 ...   \n175  GCTTCTGGAGGCACCTTCAGCAGCTATGCTATCAGCTGGGTGCGAC...   \n176  GCTTCTGGAGGCACCTTCAGCAGCTATGCTATCAGCTGGGTGCGAC...   \n177  GCTTCTGGAGGCACCTTCAGCAGCTATGCTATCAGCTGGGTGCGAC...   \n178  GCTTCTGGAGGCACCTTCAGCAGCTATGCTATCAGCTGGGTGCGAC...   \n179  GCTTCTGGAGGCACCTTCAGCAGCTATGCTATCAGCTGGGTGCGAC...   \n\n                                    germline_alignment  \\\n0    CTTCGGGAGGCACCTTCAGTACCTATGCTATCAGCTGGGTGCGACA...   \n1    CTTCGGGAGGCACCTTCAGTACCTATGCTATCAGCTGGGTGCGACA...   \n2    GCTTCTGGAGGCACCTTCAGCAGCTATGCTATCAGCTGGGTGCGAC...   \n3    CTTCTGGAGGCACCCTCAGCAGCACTTATGCGATCAGTTGGGTGCG...   \n4    CTTCTGGAGGCACCCTCAGCAGCACTTATGCGATCAGTTGGGTGCG...   \n..                                                 ...   \n175  GCTTCTGGAGGCACCTTCAGCAGCTATGCTATCAGCTGGGTGCGAC...   \n176  GCTTCTGGAGGCACCTTCAGCAGCTATGCTATCAGCTGGGTGCGAC...   \n177  GCTTCTGGAGGCACCTTCAGCAGCTATGCTATCAGCTGGGTGCGAC...   \n178  GCTTCTGGAGGCACCTTCAGCAGCTATGCTATCAGCTGGGTGCGAC...   \n179  GCTTCTGGAGGCACCTTCAGCAGCTATGCTATCAGCTGGGTGCGAC...   \n\n                                              junction  ...  \\\n0           TGTGCGAGAGATCGGGGTAATATGGCTCGGGGAGTCTCCTGG  ...   \n1           TGTGCGAGAGATCGGGGTAATATGGCTCGGGGAGTCTCCTGG  ...   \n2           TGTGCGAGAAGTGAGGTTATAATCCAAGGTTTTGATATCTGG  ...   \n3    TGTGCGAGATATCCTACGAGTAGGGGTTATGTTGGGGAATACTTCC...  ...   \n4    TGTGCGAGATATCCTACGAGTAGGGGTTATGTTGGGGAATACTTCC...  ...   \n..                                                 ...  ...   \n175  TGTGCGAGACCCCACGGGGGGTACAGCTATGGTTACTCCGACTACT...  ...   \n176  TGTGCGAGACTAGGGCCTTTGGGGGTAGTACCAGCCGCGACTGGCT...  ...   \n177                              TGTGTGGCTGGAACTACGTGG  ...   \n178                     TGTGCGACCGCAGGTAACCCTGTCCTCTGG  ...   \n179  TGTGCGAGAGCTATAGATTACTATGATAGTAGTGGTTATTACTACG...  ...   \n\n                                                  cdr3    cdr1_aa   cdr2_aa  \\\n0                 GCGAGAGATCGGGGTAATATGGCTCGGGGAGTCTCC   GGTFSTYA  IIPIFGTA   \n1                 GCGAGAGATCGGGGTAATATGGCTCGGGGAGTCTCC   GGTFSTYA  IIPIFGTA   \n2                 GCGAGAAGTGAGGTTATAATCCAAGGTTTTGATATC   GGTFSSYA  IIPIFGTA   \n3     GCGAGATATCCTACGAGTAGGGGTTATGTTGGGGAATACTTCCAGCAC  GGTLSSTYA  IIPMFDIA   \n4     GCGAGATATCCTACGAGTAGGGGTTATGTTGGGGAATACTTCCAGCAC  GGTLSSTYA  IIPMFDIA   \n..                                                 ...        ...       ...   \n175  GCGAGACCCCACGGGGGGTACAGCTATGGTTACTCCGACTACTACT...   GGTFSSYA  IIPILGIA   \n176  GCGAGACTAGGGCCTTTGGGGGTAGTACCAGCCGCGACTGGCTACT...   GGTFSSYA  IIPIFGTA   \n177                                    GTGGCTGGAACTACG   GGTFSSYA  IIPIFGTA   \n178                           GCGACCGCAGGTAACCCTGTCCTC   GGTFSSYA  IIPIFGTA   \n179  GCGAGAGCTATAGATTACTATGATAGTAGTGGTTATTACTACGCTT...   GGTFSSYA  IIPIFGTA   \n\n                      cdr3_aa  locus clone_id frequency v_alignment_length  \\\n0                ARDRGNMARGVS    IGH        1  0.000031                226   \n1                ARDRGNMARGVS    IGH        1  0.000687                226   \n2                ARSEVIIQGFDI    IGH        2  0.000023                225   \n3            ARYPTSRGYVGEYFQH    IGH        3  0.000008                257   \n4            ARYPTSRGYVGEYFQH    IGH        3  0.000578                257   \n..                        ...    ...      ...       ...                ...   \n175      ARPHGGYSYGYSDYYYGMDV    IGH      119  0.000008                225   \n176      ARLGPLGVVPAATGYYGMDV    IGH      120  0.000016                225   \n177                     VAGTT    IGH      121  0.000008                220   \n178                  ATAGNPVL    IGH      122  0.000008                223   \n179  ARAIDYYDSSGYYYAYYYYYGMDV    IGH      123  0.000008                226   \n\n    v_alignment_mutation alignment_pos  \n0                     11             2  \n1                     13             2  \n2                      0             1  \n3                     52             2  \n4                     51             2  \n..                   ...           ...  \n175                    0             1  \n176                    0             1  \n177                    0             1  \n178                    0             1  \n179                    0             1  \n\n[180 rows x 29 columns]",
      "text/html": "<div>\n<style scoped>\n    .dataframe tbody tr th:only-of-type {\n        vertical-align: middle;\n    }\n\n    .dataframe tbody tr th {\n        vertical-align: top;\n    }\n\n    .dataframe thead th {\n        text-align: right;\n    }\n</style>\n<table border=\"1\" class=\"dataframe\">\n  <thead>\n    <tr style=\"text-align: right;\">\n      <th></th>\n      <th>sequence_id</th>\n      <th>sequence</th>\n      <th>rev_comp</th>\n      <th>productive</th>\n      <th>v_call</th>\n      <th>d_call</th>\n      <th>j_call</th>\n      <th>sequence_alignment</th>\n      <th>germline_alignment</th>\n      <th>junction</th>\n      <th>...</th>\n      <th>cdr3</th>\n      <th>cdr1_aa</th>\n      <th>cdr2_aa</th>\n      <th>cdr3_aa</th>\n      <th>locus</th>\n      <th>clone_id</th>\n      <th>frequency</th>\n      <th>v_alignment_length</th>\n      <th>v_alignment_mutation</th>\n      <th>alignment_pos</th>\n    </tr>\n  </thead>\n  <tbody>\n    <tr>\n      <th>0</th>\n      <td>Seq_2757</td>\n      <td>TCTTCGGGAGGCACCTTCAGTACCTATGCTATCAGCTGGGTGCGAC...</td>\n      <td>F</td>\n      <td>T</td>\n      <td>IGHV1-69</td>\n      <td>IGHD3-10*01</td>\n      <td>IGHJ5</td>\n      <td>CTTCGGGAGGCACCTTCAGTACCTATGCTATCAGCTGGGTGCGACA...</td>\n      <td>CTTCGGGAGGCACCTTCAGTACCTATGCTATCAGCTGGGTGCGACA...</td>\n      <td>TGTGCGAGAGATCGGGGTAATATGGCTCGGGGAGTCTCCTGG</td>\n      <td>...</td>\n      <td>GCGAGAGATCGGGGTAATATGGCTCGGGGAGTCTCC</td>\n      <td>GGTFSTYA</td>\n      <td>IIPIFGTA</td>\n      <td>ARDRGNMARGVS</td>\n      <td>IGH</td>\n      <td>1</td>\n      <td>0.000031</td>\n      <td>226</td>\n      <td>11</td>\n      <td>2</td>\n    </tr>\n    <tr>\n      <th>1</th>\n      <td>Seq_298</td>\n      <td>TCTTCGGGAGGCACCTTCAGTACCTATGCTATCAGCTGGGTGCGAC...</td>\n      <td>F</td>\n      <td>T</td>\n      <td>IGHV1-69</td>\n      <td>IGHD3-10*01</td>\n      <td>IGHJ5</td>\n      <td>CTTCGGGAGGCACCTTCAGTACCTATGCTATCAGCTGGGTGCGACA...</td>\n      <td>CTTCGGGAGGCACCTTCAGTACCTATGCTATCAGCTGGGTGCGACA...</td>\n      <td>TGTGCGAGAGATCGGGGTAATATGGCTCGGGGAGTCTCCTGG</td>\n      <td>...</td>\n      <td>GCGAGAGATCGGGGTAATATGGCTCGGGGAGTCTCC</td>\n      <td>GGTFSTYA</td>\n      <td>IIPIFGTA</td>\n      <td>ARDRGNMARGVS</td>\n      <td>IGH</td>\n      <td>1</td>\n      <td>0.000687</td>\n      <td>226</td>\n      <td>13</td>\n      <td>2</td>\n    </tr>\n    <tr>\n      <th>2</th>\n      <td>Seq_2842</td>\n      <td>GCTTCTGGAGGCACCTTCAGCAGCTATGCTATCAGCTGGGTGCGAC...</td>\n      <td>F</td>\n      <td>T</td>\n      <td>IGHV1-69</td>\n      <td>IGHD3-10*01</td>\n      <td>IGHJ3</td>\n      <td>GCTTCTGGAGGCACCTTCAGCAGCTATGCTATCAGCTGGGTGCGAC...</td>\n      <td>GCTTCTGGAGGCACCTTCAGCAGCTATGCTATCAGCTGGGTGCGAC...</td>\n      <td>TGTGCGAGAAGTGAGGTTATAATCCAAGGTTTTGATATCTGG</td>\n      <td>...</td>\n      <td>GCGAGAAGTGAGGTTATAATCCAAGGTTTTGATATC</td>\n      <td>GGTFSSYA</td>\n      <td>IIPIFGTA</td>\n      <td>ARSEVIIQGFDI</td>\n      <td>IGH</td>\n      <td>2</td>\n      <td>0.000023</td>\n      <td>225</td>\n      <td>0</td>\n      <td>1</td>\n    </tr>\n    <tr>\n      <th>3</th>\n      <td>Seq_8553</td>\n      <td>ACTTCTGGAGGCACCCTCAGCAGCACTTATGCGATCAGTTGGGTGC...</td>\n      <td>F</td>\n      <td>T</td>\n      <td>IGHV1-69</td>\n      <td>IGHD3-22*01</td>\n      <td>IGHJ1</td>\n      <td>CTTCTGGAGGCACCCTCAGCAGCACTTATGCGATCAGTTGGGTGCG...</td>\n      <td>CTTCTGGAGGCACCCTCAGCAGCACTTATGCGATCAGTTGGGTGCG...</td>\n      <td>TGTGCGAGATATCCTACGAGTAGGGGTTATGTTGGGGAATACTTCC...</td>\n      <td>...</td>\n      <td>GCGAGATATCCTACGAGTAGGGGTTATGTTGGGGAATACTTCCAGCAC</td>\n      <td>GGTLSSTYA</td>\n      <td>IIPMFDIA</td>\n      <td>ARYPTSRGYVGEYFQH</td>\n      <td>IGH</td>\n      <td>3</td>\n      <td>0.000008</td>\n      <td>257</td>\n      <td>52</td>\n      <td>2</td>\n    </tr>\n    <tr>\n      <th>4</th>\n      <td>Seq_383</td>\n      <td>ACTTCTGGAGGCACCCTCAGCAGCACTTATGCGATCAGTTGGGTGC...</td>\n      <td>F</td>\n      <td>T</td>\n      <td>IGHV1-69</td>\n      <td>IGHD3-22*01</td>\n      <td>IGHJ1</td>\n      <td>CTTCTGGAGGCACCCTCAGCAGCACTTATGCGATCAGTTGGGTGCG...</td>\n      <td>CTTCTGGAGGCACCCTCAGCAGCACTTATGCGATCAGTTGGGTGCG...</td>\n      <td>TGTGCGAGATATCCTACGAGTAGGGGTTATGTTGGGGAATACTTCC...</td>\n      <td>...</td>\n      <td>GCGAGATATCCTACGAGTAGGGGTTATGTTGGGGAATACTTCCAGCAC</td>\n      <td>GGTLSSTYA</td>\n      <td>IIPMFDIA</td>\n      <td>ARYPTSRGYVGEYFQH</td>\n      <td>IGH</td>\n      <td>3</td>\n      <td>0.000578</td>\n      <td>257</td>\n      <td>51</td>\n      <td>2</td>\n    </tr>\n    <tr>\n      <th>...</th>\n      <td>...</td>\n      <td>...</td>\n      <td>...</td>\n      <td>...</td>\n      <td>...</td>\n      <td>...</td>\n      <td>...</td>\n      <td>...</td>\n      <td>...</td>\n      <td>...</td>\n      <td>...</td>\n      <td>...</td>\n      <td>...</td>\n      <td>...</td>\n      <td>...</td>\n      <td>...</td>\n      <td>...</td>\n      <td>...</td>\n      <td>...</td>\n      <td>...</td>\n      <td>...</td>\n    </tr>\n    <tr>\n      <th>175</th>\n      <td>Seq_3894</td>\n      <td>GCTTCTGGAGGCACCTTCAGCAGCTATGCTATCAGCTGGGTGCGAC...</td>\n      <td>F</td>\n      <td>T</td>\n      <td>IGHV1-69</td>\n      <td>IGHD5-18*01</td>\n      <td>IGHJ6</td>\n      <td>GCTTCTGGAGGCACCTTCAGCAGCTATGCTATCAGCTGGGTGCGAC...</td>\n      <td>GCTTCTGGAGGCACCTTCAGCAGCTATGCTATCAGCTGGGTGCGAC...</td>\n      <td>TGTGCGAGACCCCACGGGGGGTACAGCTATGGTTACTCCGACTACT...</td>\n      <td>...</td>\n      <td>GCGAGACCCCACGGGGGGTACAGCTATGGTTACTCCGACTACTACT...</td>\n      <td>GGTFSSYA</td>\n      <td>IIPILGIA</td>\n      <td>ARPHGGYSYGYSDYYYGMDV</td>\n      <td>IGH</td>\n      <td>119</td>\n      <td>0.000008</td>\n      <td>225</td>\n      <td>0</td>\n      <td>1</td>\n    </tr>\n    <tr>\n      <th>176</th>\n      <td>Seq_3184</td>\n      <td>GCTTCTGGAGGCACCTTCAGCAGCTATGCTATCAGCTGGGTGCGAC...</td>\n      <td>F</td>\n      <td>T</td>\n      <td>IGHV1-69</td>\n      <td>IGHD2-2*01</td>\n      <td>IGHJ6</td>\n      <td>GCTTCTGGAGGCACCTTCAGCAGCTATGCTATCAGCTGGGTGCGAC...</td>\n      <td>GCTTCTGGAGGCACCTTCAGCAGCTATGCTATCAGCTGGGTGCGAC...</td>\n      <td>TGTGCGAGACTAGGGCCTTTGGGGGTAGTACCAGCCGCGACTGGCT...</td>\n      <td>...</td>\n      <td>GCGAGACTAGGGCCTTTGGGGGTAGTACCAGCCGCGACTGGCTACT...</td>\n      <td>GGTFSSYA</td>\n      <td>IIPIFGTA</td>\n      <td>ARLGPLGVVPAATGYYGMDV</td>\n      <td>IGH</td>\n      <td>120</td>\n      <td>0.000016</td>\n      <td>225</td>\n      <td>0</td>\n      <td>1</td>\n    </tr>\n    <tr>\n      <th>177</th>\n      <td>Seq_5757</td>\n      <td>GCTTCTGGAGGCACCTTCAGCAGCTATGCTATCAGCTGGGTGCGAC...</td>\n      <td>F</td>\n      <td>T</td>\n      <td>IGHV1-69</td>\n      <td>IGHD1-7*01</td>\n      <td>IGHJ4</td>\n      <td>GCTTCTGGAGGCACCTTCAGCAGCTATGCTATCAGCTGGGTGCGAC...</td>\n      <td>GCTTCTGGAGGCACCTTCAGCAGCTATGCTATCAGCTGGGTGCGAC...</td>\n      <td>TGTGTGGCTGGAACTACGTGG</td>\n      <td>...</td>\n      <td>GTGGCTGGAACTACG</td>\n      <td>GGTFSSYA</td>\n      <td>IIPIFGTA</td>\n      <td>VAGTT</td>\n      <td>IGH</td>\n      <td>121</td>\n      <td>0.000008</td>\n      <td>220</td>\n      <td>0</td>\n      <td>1</td>\n    </tr>\n    <tr>\n      <th>178</th>\n      <td>Seq_7113</td>\n      <td>GCTTCTGGAGGCACCTTCAGCAGCTATGCTATCAGCTGGGTGCGAC...</td>\n      <td>F</td>\n      <td>T</td>\n      <td>IGHV1-69</td>\n      <td>IGHD4-4*01</td>\n      <td>IGHJ4</td>\n      <td>GCTTCTGGAGGCACCTTCAGCAGCTATGCTATCAGCTGGGTGCGAC...</td>\n      <td>GCTTCTGGAGGCACCTTCAGCAGCTATGCTATCAGCTGGGTGCGAC...</td>\n      <td>TGTGCGACCGCAGGTAACCCTGTCCTCTGG</td>\n      <td>...</td>\n      <td>GCGACCGCAGGTAACCCTGTCCTC</td>\n      <td>GGTFSSYA</td>\n      <td>IIPIFGTA</td>\n      <td>ATAGNPVL</td>\n      <td>IGH</td>\n      <td>122</td>\n      <td>0.000008</td>\n      <td>223</td>\n      <td>0</td>\n      <td>1</td>\n    </tr>\n    <tr>\n      <th>179</th>\n      <td>Seq_6641</td>\n      <td>GCTTCTGGAGGCACCTTCAGCAGCTATGCTATCAGCTGGGTGCGAC...</td>\n      <td>F</td>\n      <td>T</td>\n      <td>IGHV1-69</td>\n      <td>IGHD3-22*01</td>\n      <td>IGHJ6</td>\n      <td>GCTTCTGGAGGCACCTTCAGCAGCTATGCTATCAGCTGGGTGCGAC...</td>\n      <td>GCTTCTGGAGGCACCTTCAGCAGCTATGCTATCAGCTGGGTGCGAC...</td>\n      <td>TGTGCGAGAGCTATAGATTACTATGATAGTAGTGGTTATTACTACG...</td>\n      <td>...</td>\n      <td>GCGAGAGCTATAGATTACTATGATAGTAGTGGTTATTACTACGCTT...</td>\n      <td>GGTFSSYA</td>\n      <td>IIPIFGTA</td>\n      <td>ARAIDYYDSSGYYYAYYYYYGMDV</td>\n      <td>IGH</td>\n      <td>123</td>\n      <td>0.000008</td>\n      <td>226</td>\n      <td>0</td>\n      <td>1</td>\n    </tr>\n  </tbody>\n</table>\n<p>180 rows × 29 columns</p>\n</div>"
     },
     "execution_count": 98,
     "metadata": {},
     "output_type": "execute_result"
    }
   ],
   "source": [
    "df = pd.read_csv(os.path.join(sjogren_clone_path, 'S8_add_d_gene_clone-pass.tsv'), sep='\\t')\n",
    "\n",
    "# Function to find the first and last aligned positions for a single row\n",
    "def find_first_last_aligned_positions(row):\n",
    "    sequence = row['sequence']\n",
    "    sequence_alignment = row['sequence_alignment']\n",
    "\n",
    "    # Initialize variables to track positions\n",
    "    first_position = -1\n",
    "    last_position = -1\n",
    "\n",
    "    # Iterate through the sequence and sequence_alignment\n",
    "    i = 0  # Index for the sequence\n",
    "    j = 0  # Index for the sequence_alignment\n",
    "    while i < len(sequence) and j < len(sequence_alignment):\n",
    "        if sequence[i] == sequence_alignment[j] and sequence_alignment[j] != '-':\n",
    "            if first_position == -1:\n",
    "                first_position = i\n",
    "            last_position = i\n",
    "            j += 1\n",
    "        i += 1\n",
    "\n",
    "    return first_position+1\n",
    "\n",
    "# Apply the function to each row in the DataFrame\n",
    "df['alignment_pos'] = df.apply(find_first_last_aligned_positions, axis=1)\n",
    "\n",
    "df"
   ],
   "metadata": {
    "collapsed": false,
    "ExecuteTime": {
     "end_time": "2023-10-24T01:46:27.821635Z",
     "start_time": "2023-10-24T01:46:27.799366Z"
    }
   }
  },
  {
   "cell_type": "code",
   "execution_count": 71,
   "outputs": [
    {
     "name": "stdout",
     "output_type": "stream",
     "text": [
      "TCTTCGGGAGGCACCTTCAGTACCTATGCTATCAGCTGGGTGCGACAGGCCCCTGGACAAGGGCTTGAGTGGATTGGAGGGATCATCCCTATCTTTGGTACAGCAAACTACGCACAGAAGTTCCAGGACAGAGTCACGATTACCGCGGACGAATCCACGACCACAGTCTACATGGAAATGACCAGCCTGAGATCTGACGACACGGCCGTGTATTACTGTGCGAGAGATCGGGGTAATATGGCTCGGGGAGTCTCCTGGGGCCAGGGAACTCTGGTCGCCGTCTCCTCA\n",
      "CTTCGGGAGGCACCTTCAGTACCTATGCTATCAGCTGGGTGCGACAGGCCCCTGGACAAGGGCTTGAGTGGATTGGAGGGATCATCCCTATCTTTGGTACAGCAAACTACGCACAGAAGTTCCAGGACAGAGTCACGATTACCGCGGACGAATCCACGACCACAGTCTACATGGAAATGACCAGCCTGAGATCTGACGACACGGCCGTGTATTACTGTGCGAGAGATCGGGGTAATATGGCTCGGGGAGTCTCCTGGGGCCAGGGAACTCTGGTCGCCGTCTCCTCA\n"
     ]
    }
   ],
   "source": [
    "print(df['sequence'].iloc[0])\n",
    "print(df['sequence_alignment'].iloc[0])"
   ],
   "metadata": {
    "collapsed": false,
    "ExecuteTime": {
     "end_time": "2023-10-23T23:13:16.845280Z",
     "start_time": "2023-10-23T23:13:16.838407Z"
    }
   }
  },
  {
   "cell_type": "code",
   "execution_count": 70,
   "outputs": [
    {
     "name": "stdout",
     "output_type": "stream",
     "text": [
      "0\n",
      "0\n",
      "Positions in 'sequence' aligned with 'sequence_alignment': 1 287\n"
     ]
    }
   ],
   "source": [
    "sequence = df['sequence'].iloc[2]\n",
    "sequence_alignment = df['sequence_alignment'].iloc[2]\n",
    "# Find the longest contiguous matching subsequence (LCS)\n",
    "matcher = difflib.SequenceMatcher(None, sequence, sequence_alignment)\n",
    "print(lcs.a)\n",
    "lcs = matcher.find_longest_match(0, len(sequence), 0, len(sequence_alignment))\n",
    "print(lcs.a)\n",
    "# Print the result\n",
    "print(f\"Positions in 'sequence' aligned with 'sequence_alignment': {lcs.a + 1} {lcs.a + lcs.size - 1}\")"
   ],
   "metadata": {
    "collapsed": false,
    "ExecuteTime": {
     "end_time": "2023-10-23T23:12:22.355986Z",
     "start_time": "2023-10-23T23:12:22.350431Z"
    }
   }
  },
  {
   "cell_type": "markdown",
   "source": [
    "[1] 0.1351258\n",
    "[1] \"S1_add_d_gene.tsv\"\n",
    "[1] 0.1283988\n",
    "[1] \"S10_add_d_gene.tsv\"\n",
    "[1] 0.1230054\n",
    "[1] \"S11_add_d_gene.tsv\"\n",
    "[1] 0.3309881\n",
    "[1] \"S12_add_d_gene.tsv\"\n",
    "[1] 0.1072065\n",
    "[1] \"S13_add_d_gene.tsv\"\n",
    "[1] 0.1704155\n",
    "[1] \"S14_add_d_gene.tsv\"\n",
    "[1] 0.1015698\n",
    "[1] \"S15_add_d_gene.tsv\"\n",
    "[1] 0.08006341\n",
    "[1] \"S16_add_d_gene.tsv\"\n",
    "[1] 0.0893344\n",
    "[1] \"S17_add_d_gene.tsv\"\n",
    "[1] 0.08324094\n",
    "[1] \"S18_add_d_gene.tsv\"\n",
    "[1] 0.07130541\n",
    "[1] \"S19_add_d_gene.tsv\"\n",
    "[1] 0.3394774\n",
    "[1] \"S2_add_d_gene.tsv\"\n",
    "[1] 0.09756968\n",
    "[1] \"S20_add_d_gene.tsv\"\n",
    "[1] 0.05905136\n",
    "[1] \"S3_add_d_gene.tsv\"\n",
    "[1] 0.3179943\n",
    "[1] \"S4_add_d_gene.tsv\"\n",
    "[1] 0.1132562\n",
    "[1] \"S5_add_d_gene.tsv\"\n",
    "[1] 0.07391558\n",
    "[1] \"S6_add_d_gene.tsv\"\n",
    "[1] 0.1454048\n",
    "[1] \"S7_add_d_gene.tsv\"\n",
    "[1] 0.1366331\n",
    "[1] \"S8_add_d_gene.tsv\"\n",
    "[1] 0.0990255\n",
    "[1] \"S9_add_d_gene.tsv\"\n",
    "\n"
   ],
   "metadata": {
    "collapsed": false
   }
  },
  {
   "cell_type": "code",
   "execution_count": null,
   "outputs": [],
   "source": [
    "DefineClones.py -d S2_add_d_gene.tsv --act set --model ham \\\n",
    "    --norm len --dist 0.3394774\n",
    "DefineClones.py -d S3_add_d_gene.tsv --act set --model ham \\\n",
    "    --norm len --dist 0.05905136\n",
    "DefineClones.py -d S4_add_d_gene.tsv --act set --model ham \\\n",
    "    --norm len --dist 0.3179943\n",
    "DefineClones.py -d S5_add_d_gene.tsv --act set --model ham \\\n",
    "    --norm len --dist 0.1132562\n",
    "DefineClones.py -d S6_add_d_gene.tsv --act set --model ham \\\n",
    "    --norm len --dist 0.07391558\n",
    "DefineClones.py -d S7_add_d_gene.tsv --act set --model ham \\\n",
    "    --norm len --dist 0.1454048\n",
    "DefineClones.py -d S9_add_d_gene.tsv --act set --model ham \\\n",
    "    --norm len --dist 0.0990255\n",
    "DefineClones.py -d S10_add_d_gene.tsv --act set --model ham \\\n",
    "    --norm len --dist 0.1283988\n",
    "DefineClones.py -d S11_add_d_gene.tsv --act set --model ham \\\n",
    "    --norm len --dist 0.1230054\n",
    "DefineClones.py -d S12_add_d_gene.tsv --act set --model ham \\\n",
    "    --norm len --dist 0.3309881\n",
    "DefineClones.py -d S13_add_d_gene.tsv --act set --model ham \\\n",
    "    --norm len --dist 0.1072065\n",
    "DefineClones.py -d S14_add_d_gene.tsv --act set --model ham \\\n",
    "    --norm len --dist 0.1704155\n",
    "DefineClones.py -d S15_add_d_gene.tsv --act set --model ham \\\n",
    "    --norm len --dist 0.1015698\n",
    "DefineClones.py -d S16_add_d_gene.tsv --act set --model ham \\\n",
    "    --norm len --dist 0.08006341\n",
    "DefineClones.py -d S17_add_d_gene.tsv --act set --model ham \\\n",
    "    --norm len --dist 0.0893344\n",
    "DefineClones.py -d S18_add_d_gene.tsv --act set --model ham \\\n",
    "    --norm len --dist 0.08324094\n",
    "DefineClones.py -d S19_add_d_gene.tsv --act set --model ham \\\n",
    "    --norm len --dist 0.07130541\n",
    "DefineClones.py -d S20_add_d_gene.tsv --act set --model ham \\\n",
    "    --norm len --dist 0.09756968\n",
    "DefineClones.py -d S1_add_d_gene.tsv --act set --model ham \\\n",
    "    --norm len --dist 0.1351258\n",
    "DefineClones.py -d S8_add_d_gene.tsv --act set --model ham \\\n",
    "    --norm len --dist 0.1366331"
   ],
   "metadata": {
    "collapsed": false
   }
  },
  {
   "cell_type": "code",
   "execution_count": null,
   "outputs": [],
   "source": [
    "BuildTrees.py -d S8_add_d_gene_clone-pass.tsv --outname ex --log ex.log --collapse --igphyml --clean all --nproc 1"
   ],
   "metadata": {
    "collapsed": false
   }
  }
 ],
 "metadata": {
  "kernelspec": {
   "display_name": "Python 3",
   "language": "python",
   "name": "python3"
  },
  "language_info": {
   "codemirror_mode": {
    "name": "ipython",
    "version": 2
   },
   "file_extension": ".py",
   "mimetype": "text/x-python",
   "name": "python",
   "nbconvert_exporter": "python",
   "pygments_lexer": "ipython2",
   "version": "2.7.6"
  }
 },
 "nbformat": 4,
 "nbformat_minor": 0
}
